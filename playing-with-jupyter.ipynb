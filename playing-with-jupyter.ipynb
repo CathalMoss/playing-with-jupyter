{
 "cells": [
  {
   "cell_type": "code",
   "execution_count": 1,
   "id": "43bb4e1f-04ab-4703-a24d-10bdff1ed28d",
   "metadata": {},
   "outputs": [],
   "source": [
    "i = 1\n",
    "j = 2\n",
    "k = i + j"
   ]
  },
  {
   "cell_type": "code",
   "execution_count": 2,
   "id": "da3070bf-51ba-47bb-a55d-c43ad83464ab",
   "metadata": {},
   "outputs": [
    {
     "data": {
      "text/plain": [
       "3"
      ]
     },
     "execution_count": 2,
     "metadata": {},
     "output_type": "execute_result"
    }
   ],
   "source": [
    "k"
   ]
  },
  {
   "cell_type": "markdown",
   "id": "40da69c6-a5b3-40fe-ae7a-1d117aa64ee7",
   "metadata": {},
   "source": [
    "# This is Markdown Heading\n",
    "\n",
    "**Bold text**\n",
    "\n",
    "-List 1\n",
    "-List 2\n",
    "-List 3\n",
    "\n",
    "![](https://www.gmit.ie/sites/default/files/public/styles/advert/public/images/home/feature-box-springboard.jpg?itok=awsAFrjx)"
   ]
  },
  {
   "cell_type": "code",
   "execution_count": null,
   "id": "63e7f147-258c-44b7-ac58-fe2ac9d4f2b6",
   "metadata": {},
   "outputs": [],
   "source": []
  }
 ],
 "metadata": {
  "kernelspec": {
   "display_name": "Python 3",
   "language": "python",
   "name": "python3"
  },
  "language_info": {
   "codemirror_mode": {
    "name": "ipython",
    "version": 3
   },
   "file_extension": ".py",
   "mimetype": "text/x-python",
   "name": "python",
   "nbconvert_exporter": "python",
   "pygments_lexer": "ipython3",
   "version": "3.8.8"
  }
 },
 "nbformat": 4,
 "nbformat_minor": 5
}
